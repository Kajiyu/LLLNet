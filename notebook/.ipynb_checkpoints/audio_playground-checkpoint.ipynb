{
 "cells": [
  {
   "cell_type": "code",
   "execution_count": 2,
   "metadata": {},
   "outputs": [],
   "source": [
    "import glob\n",
    "import os, sys\n",
    "import numpy as np\n",
    "import librosa\n",
    "import librosa.display\n",
    "import matplotlib.pyplot as plt\n",
    "%matplotlib inline\n",
    "from IPython.display import clear_output"
   ]
  },
  {
   "cell_type": "code",
   "execution_count": 3,
   "metadata": {},
   "outputs": [],
   "source": [
    "mp3s = glob.glob(\"/data/mp3/videos/0/0/0/*.mp4.mp3\")"
   ]
  },
  {
   "cell_type": "markdown",
   "metadata": {},
   "source": [
    "### Make Dir"
   ]
  },
  {
   "cell_type": "code",
   "execution_count": 7,
   "metadata": {},
   "outputs": [],
   "source": [
    "for i in range(10):\n",
    "    os.mkdir(\"/data/mp3_spec/videos/\"+str(i))\n",
    "\n",
    "for i in range(10):\n",
    "    for j in range(10):\n",
    "        os.mkdir(\"/data/mp3_spec/videos/\"+str(i)+\"/\"+str(j))\n",
    "\n",
    "for i in range(10):\n",
    "    for j in range(10):\n",
    "        for k in range(10):\n",
    "            os.mkdir(\"/data/mp3_spec/videos/\"+str(i)+\"/\"+str(j)+\"/\"+str(k))"
   ]
  },
  {
   "cell_type": "markdown",
   "metadata": {},
   "source": [
    "## Output Spec"
   ]
  },
  {
   "cell_type": "code",
   "execution_count": 7,
   "metadata": {
    "scrolled": false
   },
   "outputs": [],
   "source": [
    "for mp3path in mp3s[:10]:\n",
    "    y, sr = librosa.load(mp3path)\n",
    "    S = librosa.feature.melspectrogram(y, sr=sr, n_mels=128)\n",
    "    log_S = librosa.logamplitude(S, ref_power=np.max)\n",
    "    my_dpi = 100.\n",
    "    fig = plt.figure(figsize=(287./my_dpi, 229./my_dpi), dpi=my_dpi)\n",
    "    librosa.display.specshow(log_S, sr=sr)\n",
    "    plt.tight_layout()\n",
    "#     specpath = \"/data/mp3_spec/\" + mp3path.split(\"/mp3/\")[1].split(\".mp3\")[0] + \".jpg\"\n",
    "    specpath = \"./\" + mp3path.split(\"/\")[-1].split(\".mp3\")[0] + \".jpg\"\n",
    "    print specpath\n",
    "    print mp3path\n",
    "    plt.savefig(specpath, bbox_inches=\"tight\", pad_inches=0.0)\n",
    "    plt.clf()\n",
    "    plt.close(fig)\n",
    "    clear_output()"
   ]
  },
  {
   "cell_type": "code",
   "execution_count": null,
   "metadata": {},
   "outputs": [],
   "source": []
  }
 ],
 "metadata": {
  "kernelspec": {
   "display_name": "Python 2",
   "language": "python",
   "name": "python2"
  },
  "language_info": {
   "codemirror_mode": {
    "name": "ipython",
    "version": 2
   },
   "file_extension": ".py",
   "mimetype": "text/x-python",
   "name": "python",
   "nbconvert_exporter": "python",
   "pygments_lexer": "ipython2",
   "version": "2.7.13"
  }
 },
 "nbformat": 4,
 "nbformat_minor": 2
}
